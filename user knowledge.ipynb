{
 "cells": [
  {
   "cell_type": "markdown",
   "id": "edd480f4-8f2b-451a-ba55-d50c1e19fbbd",
   "metadata": {},
   "source": [
    "We will use the library function to load tidyverse, tidymodels, repr, and readxl package into R. "
   ]
  },
  {
   "cell_type": "code",
   "execution_count": 1,
   "id": "b0717d9d-6050-4f8c-bceb-c9cbe3fa990d",
   "metadata": {},
   "outputs": [
    {
     "name": "stderr",
     "output_type": "stream",
     "text": [
      "── \u001b[1mAttaching packages\u001b[22m ─────────────────────────────────────── tidyverse 1.3.1 ──\n",
      "\n",
      "\u001b[32m✔\u001b[39m \u001b[34mggplot2\u001b[39m 3.3.6     \u001b[32m✔\u001b[39m \u001b[34mpurrr  \u001b[39m 0.3.4\n",
      "\u001b[32m✔\u001b[39m \u001b[34mtibble \u001b[39m 3.1.7     \u001b[32m✔\u001b[39m \u001b[34mdplyr  \u001b[39m 1.0.9\n",
      "\u001b[32m✔\u001b[39m \u001b[34mtidyr  \u001b[39m 1.2.0     \u001b[32m✔\u001b[39m \u001b[34mstringr\u001b[39m 1.4.0\n",
      "\u001b[32m✔\u001b[39m \u001b[34mreadr  \u001b[39m 2.1.2     \u001b[32m✔\u001b[39m \u001b[34mforcats\u001b[39m 0.5.1\n",
      "\n",
      "── \u001b[1mConflicts\u001b[22m ────────────────────────────────────────── tidyverse_conflicts() ──\n",
      "\u001b[31m✖\u001b[39m \u001b[34mdplyr\u001b[39m::\u001b[32mfilter()\u001b[39m masks \u001b[34mstats\u001b[39m::filter()\n",
      "\u001b[31m✖\u001b[39m \u001b[34mdplyr\u001b[39m::\u001b[32mlag()\u001b[39m    masks \u001b[34mstats\u001b[39m::lag()\n",
      "\n",
      "── \u001b[1mAttaching packages\u001b[22m ────────────────────────────────────── tidymodels 1.0.0 ──\n",
      "\n",
      "\u001b[32m✔\u001b[39m \u001b[34mbroom       \u001b[39m 1.0.0     \u001b[32m✔\u001b[39m \u001b[34mrsample     \u001b[39m 1.0.0\n",
      "\u001b[32m✔\u001b[39m \u001b[34mdials       \u001b[39m 1.0.0     \u001b[32m✔\u001b[39m \u001b[34mtune        \u001b[39m 1.0.0\n",
      "\u001b[32m✔\u001b[39m \u001b[34minfer       \u001b[39m 1.0.2     \u001b[32m✔\u001b[39m \u001b[34mworkflows   \u001b[39m 1.0.0\n",
      "\u001b[32m✔\u001b[39m \u001b[34mmodeldata   \u001b[39m 1.0.0     \u001b[32m✔\u001b[39m \u001b[34mworkflowsets\u001b[39m 1.0.0\n",
      "\u001b[32m✔\u001b[39m \u001b[34mparsnip     \u001b[39m 1.0.0     \u001b[32m✔\u001b[39m \u001b[34myardstick   \u001b[39m 1.0.0\n",
      "\u001b[32m✔\u001b[39m \u001b[34mrecipes     \u001b[39m 1.0.1     \n",
      "\n",
      "── \u001b[1mConflicts\u001b[22m ───────────────────────────────────────── tidymodels_conflicts() ──\n",
      "\u001b[31m✖\u001b[39m \u001b[34mscales\u001b[39m::\u001b[32mdiscard()\u001b[39m masks \u001b[34mpurrr\u001b[39m::discard()\n",
      "\u001b[31m✖\u001b[39m \u001b[34mdplyr\u001b[39m::\u001b[32mfilter()\u001b[39m   masks \u001b[34mstats\u001b[39m::filter()\n",
      "\u001b[31m✖\u001b[39m \u001b[34mrecipes\u001b[39m::\u001b[32mfixed()\u001b[39m  masks \u001b[34mstringr\u001b[39m::fixed()\n",
      "\u001b[31m✖\u001b[39m \u001b[34mdplyr\u001b[39m::\u001b[32mlag()\u001b[39m      masks \u001b[34mstats\u001b[39m::lag()\n",
      "\u001b[31m✖\u001b[39m \u001b[34myardstick\u001b[39m::\u001b[32mspec()\u001b[39m masks \u001b[34mreadr\u001b[39m::spec()\n",
      "\u001b[31m✖\u001b[39m \u001b[34mrecipes\u001b[39m::\u001b[32mstep()\u001b[39m   masks \u001b[34mstats\u001b[39m::step()\n",
      "\u001b[34m•\u001b[39m Search for functions across packages at \u001b[32mhttps://www.tidymodels.org/find/\u001b[39m\n",
      "\n"
     ]
    }
   ],
   "source": [
    "library(repr)\n",
    "library(readxl)\n",
    "library(tidyverse)\n",
    "library(tidymodels)\n",
    "set.seed(1)"
   ]
  },
  {
   "cell_type": "markdown",
   "id": "cca8c519-d706-4dcd-a79b-a3483c015159",
   "metadata": {},
   "source": [
    "# Title: User Knowledge Data"
   ]
  },
  {
   "cell_type": "markdown",
   "id": "d90e6c7a-6a73-4a9d-8235-bf110f260993",
   "metadata": {
    "tags": []
   },
   "source": [
    "# Introduction\n",
    "For our Data Science 100 group project, we will be using a dataset looking at the knowledge status of students about Electrical DC Machines and how certain predictors are associated with it. The knowledge of the students were classified by the authors through utilization of a “hybrid ML technique of k-NN and meta-heuristic exploring methods” knowledge classifier, k-nearest neighbor algorithm. Various attributes and predictors were taken into account when making their dataset, looking at study time, repetition, exam performance, and of course, the user knowledge. The knowledge classifier measures the distance between students depending on their data and the value of their knowledge weights. The dissimilarities go into determining their knowledge class."
   ]
  },
  {
   "cell_type": "markdown",
   "id": "9d5ae9d1-0fc7-4754-b377-9d1b94e9b4a4",
   "metadata": {},
   "source": [
    "# Question\n",
    "How strongly is knowledge level associated with study time, repetition, and exam performance?\n"
   ]
  },
  {
   "cell_type": "markdown",
   "id": "01913bff-ffb6-4a6d-9279-ef1b27d1a4be",
   "metadata": {},
   "source": [
    "# The Dataset\n",
    "The dataset we use is downloaded from this link (https://archive.ics.uci.edu/ml/machine-learning-databases/00257/Data_User_Modeling_Dataset_Hamdi%20Tolga%20KAHRAMAN.xls), and it’s in sheet 2 (\"Training Data\"). \n",
    "\n",
    "Since it is untidy data, we can use the “select” function to delete the description, and the remaining data will be tidy. \n"
   ]
  },
  {
   "cell_type": "markdown",
   "id": "310e1b68-aab8-4f29-9fdc-70d6e57c7389",
   "metadata": {},
   "source": [
    "# Preliminary exploratory data analysis:"
   ]
  },
  {
   "cell_type": "code",
   "execution_count": 2,
   "id": "97a2582d-97b0-43b4-ac86-05da241c39a9",
   "metadata": {},
   "outputs": [
    {
     "ename": "ERROR",
     "evalue": "Error: `path` does not exist: ‘Data_User_Modeling_Dataset_Hamdi Tolga KAHRAMAN.xls’\n",
     "output_type": "error",
     "traceback": [
      "Error: `path` does not exist: ‘Data_User_Modeling_Dataset_Hamdi Tolga KAHRAMAN.xls’\nTraceback:\n",
      "1. read_excel(\"Data_User_Modeling_Dataset_Hamdi Tolga KAHRAMAN.xls\", \n .     sheet = 2)",
      "2. check_file(path)",
      "3. stop(\"`path` does not exist: \", sQuote(path), call. = FALSE)"
     ]
    }
   ],
   "source": [
    "#STG (The degree of study time for goal object materails)\n",
    "#SCG (The degree of repetition number of user for goal object materails)\n",
    "#STR (The degree of study time of user for related objects with goal object)\n",
    "#LPR (The exam performance of user for related objects with goal object)\n",
    "#PEG (The exam performance of user for goal objects)\n",
    "#UNS (The knowledge level of user)\n",
    "\n",
    "# Demonstrate that the dataset can be read from the web into R \n",
    "user_knowledge <- read_excel(\"Data_User_Modeling_Dataset_Hamdi Tolga KAHRAMAN.xls\", sheet = 2)\n",
    "\n",
    "# Clean and wrangle your data into a tidy format\n",
    "user_knowledge_wrangle <- user_knowledge |>\n",
    "    select(STG:UNS)\n",
    "\n",
    "# Using only training data, summarize the data in at least one table (this is exploratory data analysis). \n",
    "user_knowledge_training <- user_knowledge_wrangle |>\n",
    "    select(STG:UNS) |>\n",
    "    mutate(UNS = as_factor(UNS))\n",
    "user_knowledge_training\n",
    "\n",
    "user_knowledge_testing <- user_knowledge_wrangle |>\n",
    "    select(STG:UNS) |>\n",
    "    mutate(UNS = as_factor(UNS))\n",
    "user_knowledge_testing"
   ]
  },
  {
   "cell_type": "code",
   "execution_count": null,
   "id": "35380595-26f0-41a3-ba05-32683ba00217",
   "metadata": {},
   "outputs": [],
   "source": [
    "user_summary <- user_knowledge_training |>\n",
    "    group_by(UNS)|>\n",
    "    summarize (mean_of_STG = mean(STG),\n",
    "               mean_of_SCG = mean(SCG),\n",
    "               mean_of_LPR = mean(LPR),\n",
    "               number_of_UNS = n())\n",
    "user_summary"
   ]
  },
  {
   "cell_type": "code",
   "execution_count": null,
   "id": "be54223e-9714-416c-b9d9-8fe2c2e8f901",
   "metadata": {},
   "outputs": [],
   "source": [
    "options(repr.plot.width = 10, repr.plot.height = 8)\n",
    "STG_vs_UNS_hist <- user_knowledge_training|>\n",
    "    ggplot(aes(x=STG, fill=UNS))+\n",
    "    geom_histogram(bins=45, alpha=0.6, position=\"identity\")+\n",
    "    labs(x=\"STG(The degree of study time)\", y=\"Count\", title = \"STG Distribution\", caption=\"Figure 1\", fill = \"User Knowledge level\")+\n",
    "    theme(text = element_text(size = 20))\n",
    "STG_vs_UNS_hist"
   ]
  },
  {
   "cell_type": "code",
   "execution_count": null,
   "id": "cac04e89-5199-4cfc-9174-70516c5e473a",
   "metadata": {},
   "outputs": [],
   "source": [
    "options(repr.plot.width = 10, repr.plot.height = 8)\n",
    "SCG_hist <- user_knowledge_training|>\n",
    "    ggplot(aes(x=SCG, fill=UNS))+\n",
    "    geom_histogram(bins=45, alpha=0.6, position=\"identity\")+\n",
    "    labs(x=\"SCG(The degree of repetition number)\", y=\"Count\", title = \"SCG Distribution\", caption=\"Figure 2\", fill = \"User Knowledge level\")+\n",
    "    theme(text = element_text(size = 20))\n",
    "SCG_hist"
   ]
  },
  {
   "cell_type": "code",
   "execution_count": null,
   "id": "86925716-c766-4fb9-9bea-214ae324aeea",
   "metadata": {},
   "outputs": [],
   "source": [
    "options(repr.plot.width = 10, repr.plot.height = 8)\n",
    "STR_hist <- user_knowledge_training|>\n",
    "    ggplot(aes(x=STR, fill=UNS))+\n",
    "    geom_histogram(bins=45, alpha=0.6, position=\"identity\")+\n",
    "    labs(x=\"STR(The degree of study time for related objects)\", y=\"Count\", title = \"STR Distribution\", caption=\"Figure 3\", fill = \"User Knowledge level\")+\n",
    "    theme(text = element_text(size = 20))\n",
    "STR_hist"
   ]
  },
  {
   "cell_type": "code",
   "execution_count": null,
   "id": "6cbf0e37-487e-4af2-9cc7-05d777eaa8f9",
   "metadata": {},
   "outputs": [],
   "source": [
    "options(repr.plot.width = 10, repr.plot.height = 8)\n",
    "LPR_hist <- user_knowledge_training|>\n",
    "    ggplot(aes(x=LPR, fill=UNS))+\n",
    "    geom_histogram(bins=45, alpha=0.6, position=\"identity\")+\n",
    "    labs(x=\"LPR(The exam performance for related objects )\", y=\"Count\", title = \"LPR Distribution\", caption=\"Figure 4\", fill = \"User Knowledge level\")+\n",
    "    theme(text = element_text(size = 20))\n",
    "LPR_hist"
   ]
  },
  {
   "cell_type": "code",
   "execution_count": null,
   "id": "0c91825e-e13f-4147-8914-dda8e335bf66",
   "metadata": {},
   "outputs": [],
   "source": [
    "options(repr.plot.width = 10, repr.plot.height = 8)\n",
    "PEG_hist <- user_knowledge_training|>\n",
    "    ggplot(aes(x=PEG, fill=UNS))+\n",
    "    geom_histogram(bins=45, alpha=0.6, position=\"identity\")+\n",
    "    labs(x=\"PEG(The exam performance for goal objects)\", y=\"Count\", title = \"PEG Distribution\", caption=\"Figure 5\", fill = \"User Knowledge level\")+\n",
    "    theme(text = element_text(size = 20))\n",
    "PEG_hist"
   ]
  },
  {
   "cell_type": "markdown",
   "id": "ffe6aaac-ac2b-4306-80a1-6f49d0f9b8f2",
   "metadata": {},
   "source": [
    "# Methods\n",
    "After visualizing the histogram of each variable which is colored by UNS(The knowledge level of the users), we choose the following variables. We can create a KNN classification model to predict user knowledge level.\n",
    "- UNS (The knowledge level of user)\n",
    "- PEG (The exam performance of user for goal objects)\n",
    "\n",
    "The KNN classification model will need to be trained, evaluated, and tuned with training and testing sets before predicting the knowledge level of users. Comparing the histogram of each variable, Figure 5 (PEG Distribution) has less overlap with each knowledge level, which means that PEG has a stronger relevance with UNS compared to other variables. Therefore, the PEG variable will be the useful predictor we are using to do a more effective model.\n",
    "\n",
    "How to visualize:\n",
    "One way we will visualize the results would be through the utilization of a histogram. This will help us to analyze the predictors that are relevant to the knowledge of the users by visualizing the distribution of the effects of the predictors on the knowledge level."
   ]
  },
  {
   "cell_type": "markdown",
   "id": "ba18a266-1d76-4d7f-b93d-468f869c776f",
   "metadata": {},
   "source": [
    "# Expected Outcomes and significance\n",
    "### Expect to find\n",
    "- Given the user knowledge data, we have the expectation of determining the most effective predictor in the students’ knowledge on Electrical DC Machines when tested.\n",
    "### Impact of findings\n",
    "- The impact of our findings is that we determine the predictor that best correlates with students’ knowledge. We can use this information to apply to areas of study other than solely Electrical DC Machines. \n",
    "### Future questions\n",
    "- Future questions could look at different predictors and their effect on user knowledge when examined on Electrical DC Machines. Different predictors include those not within this particular data set. For example, how strongly is room temperature associated with user knowledge when conducting the same study methods?"
   ]
  },
  {
   "cell_type": "code",
   "execution_count": null,
   "id": "c07cece7-d630-4118-844e-0c6e576c74ef",
   "metadata": {},
   "outputs": [],
   "source": []
  }
 ],
 "metadata": {
  "kernelspec": {
   "display_name": "R",
   "language": "R",
   "name": "ir"
  },
  "language_info": {
   "codemirror_mode": "r",
   "file_extension": ".r",
   "mimetype": "text/x-r-source",
   "name": "R",
   "pygments_lexer": "r",
   "version": "4.1.3"
  }
 },
 "nbformat": 4,
 "nbformat_minor": 5
}
